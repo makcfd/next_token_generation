{
 "cells": [
  {
   "cell_type": "code",
   "execution_count": null,
   "id": "23d25e80",
   "metadata": {},
   "outputs": [
    {
     "name": "stderr",
     "output_type": "stream",
     "text": [
      "/Users/maksim.fediushkin/PyPetProjects/yandex_nlp/final_project_sprint_2/.venv/lib/python3.12/site-packages/tqdm/auto.py:21: TqdmWarning: IProgress not found. Please update jupyter and ipywidgets. See https://ipywidgets.readthedocs.io/en/stable/user_install.html\n",
      "  from .autonotebook import tqdm as notebook_tqdm\n"
     ]
    }
   ],
   "source": [
    "import torch\n",
    "import torch.nn as nn\n",
    "import math, time, json\n",
    "import random\n",
    "import pandas as pd\n",
    "from torch.utils.data import DataLoader\n",
    "from rouge_score import rouge_scorer \n",
    "from pathlib import Path\n",
    "from sklearn.model_selection import train_test_split\n",
    "from torch.nn.utils.rnn import pad_sequence\n",
    "from transformers import AutoTokenizer\n",
    "from torch.cuda.amp import autocast, GradScaler\n",
    "import warnings\n",
    "from src.data_utils import clean_string\n",
    "from src.next_token_dataset import NextTokenDataset, collate_batch\n",
    "from src.lstm_model import LSTMLM\n",
    "warnings.filterwarnings('ignore')"
   ]
  },
  {
   "cell_type": "code",
   "execution_count": 2,
   "id": "2c8c3d46",
   "metadata": {},
   "outputs": [
    {
     "data": {
      "text/plain": [
       "<torch._C.Generator at 0x118e1ecd0>"
      ]
     },
     "execution_count": 2,
     "metadata": {},
     "output_type": "execute_result"
    }
   ],
   "source": [
    "random.seed(42)\n",
    "torch.manual_seed(42)"
   ]
  },
  {
   "cell_type": "markdown",
   "id": "b8d807e9",
   "metadata": {},
   "source": [
    "## Get the data"
   ]
  },
  {
   "cell_type": "code",
   "execution_count": null,
   "id": "11a0d043",
   "metadata": {},
   "outputs": [
    {
     "name": "stdout",
     "output_type": "stream",
     "text": [
      "--2025-09-12 15:01:51--  https://nyc3.digitaloceanspaces.com/ml-files-distro/v1/investigating-sentiment-analysis/data/training.1600000.processed.noemoticon.csv.zip\n",
      "Resolving nyc3.digitaloceanspaces.com (nyc3.digitaloceanspaces.com)... 162.243.189.2\n",
      "Connecting to nyc3.digitaloceanspaces.com (nyc3.digitaloceanspaces.com)|162.243.189.2|:443... connected.\n",
      "HTTP request sent, awaiting response... 200 OK\n",
      "Length: 85088192 (81M) [application/zip]\n",
      "Saving to: ‘data/training.1600000.processed.noemoticon.csv.zip’\n",
      "\n",
      "training.1600000.pr 100%[===================>]  81.15M  4.93MB/s    in 11s     \n",
      "\n",
      "2025-09-12 15:02:04 (7.31 MB/s) - ‘data/training.1600000.processed.noemoticon.csv.zip’ saved [85088192/85088192]\n",
      "\n",
      "Archive:  data/training.1600000.processed.noemoticon.csv.zip\n",
      "  inflating: data/training.1600000.processed.noemoticon.csv  \n"
     ]
    }
   ],
   "source": [
    "# !mkdir -p data\n",
    "# !wget -nc https://nyc3.digitaloceanspaces.com/ml-files-distro/v1/investigating-sentiment-analysis/data/training.1600000.processed.noemoticon.csv.zip -P data\n",
    "# !unzip -n -d data data/training.1600000.processed.noemoticon.csv.zip"
   ]
  },
  {
   "cell_type": "markdown",
   "id": "c1ea332c",
   "metadata": {},
   "source": [
    "### Data Preparation\n",
    "\n"
   ]
  },
  {
   "cell_type": "code",
   "execution_count": 3,
   "id": "bea142bb",
   "metadata": {},
   "outputs": [
    {
     "data": {
      "text/html": [
       "<div>\n",
       "<style scoped>\n",
       "    .dataframe tbody tr th:only-of-type {\n",
       "        vertical-align: middle;\n",
       "    }\n",
       "\n",
       "    .dataframe tbody tr th {\n",
       "        vertical-align: top;\n",
       "    }\n",
       "\n",
       "    .dataframe thead th {\n",
       "        text-align: right;\n",
       "    }\n",
       "</style>\n",
       "<table border=\"1\" class=\"dataframe\">\n",
       "  <thead>\n",
       "    <tr style=\"text-align: right;\">\n",
       "      <th></th>\n",
       "      <th>polarity</th>\n",
       "      <th>id</th>\n",
       "      <th>date</th>\n",
       "      <th>query</th>\n",
       "      <th>user</th>\n",
       "      <th>text</th>\n",
       "    </tr>\n",
       "  </thead>\n",
       "  <tbody>\n",
       "    <tr>\n",
       "      <th>0</th>\n",
       "      <td>0</td>\n",
       "      <td>1467810369</td>\n",
       "      <td>Mon Apr 06 22:19:45 PDT 2009</td>\n",
       "      <td>NO_QUERY</td>\n",
       "      <td>_TheSpecialOne_</td>\n",
       "      <td>@switchfoot http://twitpic.com/2y1zl - Awww, t...</td>\n",
       "    </tr>\n",
       "    <tr>\n",
       "      <th>1</th>\n",
       "      <td>0</td>\n",
       "      <td>1467810672</td>\n",
       "      <td>Mon Apr 06 22:19:49 PDT 2009</td>\n",
       "      <td>NO_QUERY</td>\n",
       "      <td>scotthamilton</td>\n",
       "      <td>is upset that he can't update his Facebook by ...</td>\n",
       "    </tr>\n",
       "    <tr>\n",
       "      <th>2</th>\n",
       "      <td>0</td>\n",
       "      <td>1467810917</td>\n",
       "      <td>Mon Apr 06 22:19:53 PDT 2009</td>\n",
       "      <td>NO_QUERY</td>\n",
       "      <td>mattycus</td>\n",
       "      <td>@Kenichan I dived many times for the ball. Man...</td>\n",
       "    </tr>\n",
       "    <tr>\n",
       "      <th>3</th>\n",
       "      <td>0</td>\n",
       "      <td>1467811184</td>\n",
       "      <td>Mon Apr 06 22:19:57 PDT 2009</td>\n",
       "      <td>NO_QUERY</td>\n",
       "      <td>ElleCTF</td>\n",
       "      <td>my whole body feels itchy and like its on fire</td>\n",
       "    </tr>\n",
       "    <tr>\n",
       "      <th>4</th>\n",
       "      <td>0</td>\n",
       "      <td>1467811193</td>\n",
       "      <td>Mon Apr 06 22:19:57 PDT 2009</td>\n",
       "      <td>NO_QUERY</td>\n",
       "      <td>Karoli</td>\n",
       "      <td>@nationwideclass no, it's not behaving at all....</td>\n",
       "    </tr>\n",
       "  </tbody>\n",
       "</table>\n",
       "</div>"
      ],
      "text/plain": [
       "   polarity          id                          date     query  \\\n",
       "0         0  1467810369  Mon Apr 06 22:19:45 PDT 2009  NO_QUERY   \n",
       "1         0  1467810672  Mon Apr 06 22:19:49 PDT 2009  NO_QUERY   \n",
       "2         0  1467810917  Mon Apr 06 22:19:53 PDT 2009  NO_QUERY   \n",
       "3         0  1467811184  Mon Apr 06 22:19:57 PDT 2009  NO_QUERY   \n",
       "4         0  1467811193  Mon Apr 06 22:19:57 PDT 2009  NO_QUERY   \n",
       "\n",
       "              user                                               text  \n",
       "0  _TheSpecialOne_  @switchfoot http://twitpic.com/2y1zl - Awww, t...  \n",
       "1    scotthamilton  is upset that he can't update his Facebook by ...  \n",
       "2         mattycus  @Kenichan I dived many times for the ball. Man...  \n",
       "3          ElleCTF    my whole body feels itchy and like its on fire   \n",
       "4           Karoli  @nationwideclass no, it's not behaving at all....  "
      ]
     },
     "execution_count": 3,
     "metadata": {},
     "output_type": "execute_result"
    }
   ],
   "source": [
    "df = pd.read_csv(\"./data/training.1600000.processed.noemoticon.csv\", names=['polarity', 'id', 'date', 'query', 'user', 'text'],\n",
    "                encoding='latin-1')\n",
    "df.head()"
   ]
  },
  {
   "cell_type": "code",
   "execution_count": 4,
   "id": "aa55d030",
   "metadata": {},
   "outputs": [
    {
     "data": {
      "text/html": [
       "<div>\n",
       "<style scoped>\n",
       "    .dataframe tbody tr th:only-of-type {\n",
       "        vertical-align: middle;\n",
       "    }\n",
       "\n",
       "    .dataframe tbody tr th {\n",
       "        vertical-align: top;\n",
       "    }\n",
       "\n",
       "    .dataframe thead th {\n",
       "        text-align: right;\n",
       "    }\n",
       "</style>\n",
       "<table border=\"1\" class=\"dataframe\">\n",
       "  <thead>\n",
       "    <tr style=\"text-align: right;\">\n",
       "      <th></th>\n",
       "      <th>text</th>\n",
       "    </tr>\n",
       "  </thead>\n",
       "  <tbody>\n",
       "    <tr>\n",
       "      <th>0</th>\n",
       "      <td>@switchfoot http://twitpic.com/2y1zl - Awww, t...</td>\n",
       "    </tr>\n",
       "    <tr>\n",
       "      <th>1</th>\n",
       "      <td>is upset that he can't update his Facebook by ...</td>\n",
       "    </tr>\n",
       "    <tr>\n",
       "      <th>2</th>\n",
       "      <td>@Kenichan I dived many times for the ball. Man...</td>\n",
       "    </tr>\n",
       "    <tr>\n",
       "      <th>3</th>\n",
       "      <td>my whole body feels itchy and like its on fire</td>\n",
       "    </tr>\n",
       "    <tr>\n",
       "      <th>4</th>\n",
       "      <td>@nationwideclass no, it's not behaving at all....</td>\n",
       "    </tr>\n",
       "  </tbody>\n",
       "</table>\n",
       "</div>"
      ],
      "text/plain": [
       "                                                text\n",
       "0  @switchfoot http://twitpic.com/2y1zl - Awww, t...\n",
       "1  is upset that he can't update his Facebook by ...\n",
       "2  @Kenichan I dived many times for the ball. Man...\n",
       "3    my whole body feels itchy and like its on fire \n",
       "4  @nationwideclass no, it's not behaving at all...."
      ]
     },
     "execution_count": 4,
     "metadata": {},
     "output_type": "execute_result"
    }
   ],
   "source": [
    "df = df.drop(columns=['id', 'date', 'query', 'user', 'polarity'])\n",
    "df.head()"
   ]
  },
  {
   "cell_type": "code",
   "execution_count": 6,
   "id": "4f35c488",
   "metadata": {},
   "outputs": [],
   "source": [
    "df[\"cleaned_text\"] = df[\"text\"].apply(clean_string)"
   ]
  },
  {
   "cell_type": "code",
   "execution_count": 7,
   "id": "64c2b45d",
   "metadata": {},
   "outputs": [
    {
     "data": {
      "text/html": [
       "<div>\n",
       "<style scoped>\n",
       "    .dataframe tbody tr th:only-of-type {\n",
       "        vertical-align: middle;\n",
       "    }\n",
       "\n",
       "    .dataframe tbody tr th {\n",
       "        vertical-align: top;\n",
       "    }\n",
       "\n",
       "    .dataframe thead th {\n",
       "        text-align: right;\n",
       "    }\n",
       "</style>\n",
       "<table border=\"1\" class=\"dataframe\">\n",
       "  <thead>\n",
       "    <tr style=\"text-align: right;\">\n",
       "      <th></th>\n",
       "      <th>text</th>\n",
       "      <th>cleaned_text</th>\n",
       "    </tr>\n",
       "  </thead>\n",
       "  <tbody>\n",
       "    <tr>\n",
       "      <th>0</th>\n",
       "      <td>@switchfoot http://twitpic.com/2y1zl - Awww, t...</td>\n",
       "      <td>switchfoot httptwitpiccom2y1zl awww thats a bu...</td>\n",
       "    </tr>\n",
       "    <tr>\n",
       "      <th>1</th>\n",
       "      <td>is upset that he can't update his Facebook by ...</td>\n",
       "      <td>is upset that he cant update his facebook by t...</td>\n",
       "    </tr>\n",
       "    <tr>\n",
       "      <th>2</th>\n",
       "      <td>@Kenichan I dived many times for the ball. Man...</td>\n",
       "      <td>kenichan i dived many times for the ball manag...</td>\n",
       "    </tr>\n",
       "    <tr>\n",
       "      <th>3</th>\n",
       "      <td>my whole body feels itchy and like its on fire</td>\n",
       "      <td>my whole body feels itchy and like its on fire</td>\n",
       "    </tr>\n",
       "    <tr>\n",
       "      <th>4</th>\n",
       "      <td>@nationwideclass no, it's not behaving at all....</td>\n",
       "      <td>nationwideclass no its not behaving at all im ...</td>\n",
       "    </tr>\n",
       "  </tbody>\n",
       "</table>\n",
       "</div>"
      ],
      "text/plain": [
       "                                                text  \\\n",
       "0  @switchfoot http://twitpic.com/2y1zl - Awww, t...   \n",
       "1  is upset that he can't update his Facebook by ...   \n",
       "2  @Kenichan I dived many times for the ball. Man...   \n",
       "3    my whole body feels itchy and like its on fire    \n",
       "4  @nationwideclass no, it's not behaving at all....   \n",
       "\n",
       "                                        cleaned_text  \n",
       "0  switchfoot httptwitpiccom2y1zl awww thats a bu...  \n",
       "1  is upset that he cant update his facebook by t...  \n",
       "2  kenichan i dived many times for the ball manag...  \n",
       "3     my whole body feels itchy and like its on fire  \n",
       "4  nationwideclass no its not behaving at all im ...  "
      ]
     },
     "execution_count": 7,
     "metadata": {},
     "output_type": "execute_result"
    }
   ],
   "source": [
    "df.head()"
   ]
  },
  {
   "cell_type": "code",
   "execution_count": 12,
   "id": "0b2cbb20",
   "metadata": {},
   "outputs": [],
   "source": [
    "df.to_csv(\"./data/tweets_cleaned.csv\")"
   ]
  },
  {
   "cell_type": "code",
   "execution_count": 3,
   "id": "9b04f557",
   "metadata": {},
   "outputs": [],
   "source": [
    "df = pd.read_csv(\"./data/tweets_cleaned.csv\")"
   ]
  },
  {
   "cell_type": "markdown",
   "id": "9b2ae3ac",
   "metadata": {},
   "source": [
    "### Data preparation\n",
    "1. Clean\n",
    "3. Split\n",
    "2. Tokenize\n",
    "4. Create Dataset \n",
    "5. Create Dataloader"
   ]
  },
  {
   "cell_type": "code",
   "execution_count": 4,
   "id": "bb6205d1",
   "metadata": {},
   "outputs": [],
   "source": [
    "model_name = \"bert-base-uncased\"\n",
    "tokenizer = AutoTokenizer.from_pretrained(model_name)\n",
    "pad_id = tokenizer.pad_token_id\n",
    "eos_id = tokenizer.sep_token_id"
   ]
  },
  {
   "cell_type": "code",
   "execution_count": 5,
   "id": "b925d2e5",
   "metadata": {},
   "outputs": [
    {
     "name": "stdout",
     "output_type": "stream",
     "text": [
      "Train texts: 1280000, Val_Test texts: 320000\n",
      "Val texts: 160000, Test texts: 160000\n"
     ]
    }
   ],
   "source": [
    "val_test_size = 0.20\n",
    "test_size = 0.50\n",
    "\n",
    "train_texts, val_test_texts = train_test_split(list(df[\"cleaned_text\"]), test_size=val_test_size, random_state=42)\n",
    "print(f\"Train texts: {len(train_texts)}, Val_Test texts: {len(val_test_texts)}\")\n",
    "val_texts, test_texts = train_test_split(val_test_texts, test_size=test_size, random_state=42)\n",
    "print(f\"Val texts: {len(val_texts)}, Test texts: {len(test_texts)}\")"
   ]
  },
  {
   "cell_type": "code",
   "execution_count": 6,
   "id": "8a8ac1e6",
   "metadata": {},
   "outputs": [],
   "source": [
    "IGNORE_INDEX = -100"
   ]
  },
  {
   "cell_type": "code",
   "execution_count": 7,
   "id": "ca17529d",
   "metadata": {},
   "outputs": [
    {
     "name": "stdout",
     "output_type": "stream",
     "text": [
      "device: mps\n"
     ]
    }
   ],
   "source": [
    "device = (\n",
    "    torch.device(\"cuda\") if torch.cuda.is_available() else\n",
    "    torch.device(\"mps\")  if torch.backends.mps.is_available() else\n",
    "    torch.device(\"cpu\")\n",
    ")\n",
    "print(\"device:\", device)"
   ]
  },
  {
   "cell_type": "code",
   "execution_count": 9,
   "id": "12e03c3d",
   "metadata": {},
   "outputs": [],
   "source": [
    "train_ds = NextTokenDataset(texts=train_texts, tokenizer=tokenizer, eos_id=eos_id, max_len=256)\n",
    "val_ds = NextTokenDataset(texts=val_test_texts, tokenizer=tokenizer, eos_id=eos_id, max_len=256) "
   ]
  },
  {
   "cell_type": "code",
   "execution_count": 10,
   "id": "178fdd8a",
   "metadata": {},
   "outputs": [],
   "source": [
    "train_loader = DataLoader(\n",
    "    train_ds, batch_size=256, shuffle=True,\n",
    "    collate_fn=collate_batch,\n",
    "    #num_workers=os.cpu_count()//2 or 2,\n",
    "    #pin_memory=(device.type==\"cuda\"),\n",
    "    #persistent_workers=True\n",
    ")\n",
    "val_loader = DataLoader(\n",
    "    val_ds, batch_size=256, shuffle=False,\n",
    "    collate_fn=collate_batch,\n",
    "    #num_workers=os.cpu_count()//2 or 2,\n",
    "    #pin_memory=(device.type==\"cuda\"),\n",
    "    #persistent_workers=True\n",
    ")"
   ]
  },
  {
   "cell_type": "code",
   "execution_count": 11,
   "id": "c37f9ad7",
   "metadata": {},
   "outputs": [
    {
     "name": "stdout",
     "output_type": "stream",
     "text": [
      "Количество батчей в train_dataloader: 5000\n",
      "Количество батчей в val_dataloader: 1250\n"
     ]
    }
   ],
   "source": [
    "print(f'Количество батчей в train_dataloader: {len(train_loader)}')\n",
    "print(f'Количество батчей в val_dataloader: {len(val_loader)}')"
   ]
  },
  {
   "cell_type": "code",
   "execution_count": 12,
   "id": "e3281905",
   "metadata": {},
   "outputs": [
    {
     "name": "stdout",
     "output_type": "stream",
     "text": [
      "input_ids: torch.Size([256, 41])\n",
      "lengths: torch.Size([256])\n",
      "labels: torch.Size([256, 41])\n"
     ]
    }
   ],
   "source": [
    "for batch in train_loader:\n",
    "    print('input_ids:', batch['input_ids'].shape)\n",
    "    print('lengths:', batch['lengths'].shape)\n",
    "    print('labels:', batch['labels'].shape)\n",
    "    break"
   ]
  },
  {
   "cell_type": "code",
   "execution_count": 13,
   "id": "5cd0028b",
   "metadata": {},
   "outputs": [],
   "source": [
    "model = LSTMLM(\n",
    "    vocab_size=tokenizer.vocab_size,\n",
    "    emb_dim=256, hidden_dim=512, num_layers=1\n",
    ")\n",
    "model.to(device)\n",
    "\n",
    "optimizer = torch.optim.AdamW(model.parameters(), lr=2e-3)\n",
    "\n",
    "scaler = GradScaler(enabled=(device.type==\"cuda\"))\n",
    "criterion = nn.CrossEntropyLoss(ignore_index=IGNORE_INDEX)"
   ]
  },
  {
   "cell_type": "code",
   "execution_count": 14,
   "id": "8fb78543",
   "metadata": {},
   "outputs": [],
   "source": [
    "def step_train(batch):\n",
    "    model.train()\n",
    "    X, Y, L = batch[\"input_ids\"].to(device, non_blocking=True), batch[\"labels\"].to(device, non_blocking=True), batch[\"lengths\"].to(device)\n",
    "    optimizer.zero_grad(set_to_none=True)\n",
    "    ctx = autocast(enabled=(device.type==\"cuda\"))\n",
    "    with ctx:\n",
    "        logits = model(X, L) # (B,L,V)\n",
    "        B,Lm,V = logits.shape\n",
    "        loss = criterion(logits.view(B*Lm, V), Y.view(B*Lm))\n",
    "    scaler.scale(loss).backward()\n",
    "    nn.utils.clip_grad_norm_(model.parameters(), 1.0)\n",
    "    scaler.step(optimizer)\n",
    "    scaler.update()\n",
    "    return loss.item()"
   ]
  },
  {
   "cell_type": "code",
   "execution_count": 15,
   "id": "68258eef",
   "metadata": {},
   "outputs": [],
   "source": [
    "@torch.no_grad()\n",
    "def evaluate_perplexity(val_loader):\n",
    "    model.eval()\n",
    "    nll, tokens = 0.0, 0\n",
    "    for batch in val_loader:\n",
    "        X, Y, L = batch[\"input_ids\"].to(device), batch[\"labels\"].to(device), batch[\"lengths\"].to(device)\n",
    "        logits = model(X, L)\n",
    "        B,Lm,V = logits.shape\n",
    "        logp = torch.log_softmax(logits, dim=-1)\n",
    "        # gather gold log-probs where Y != IGNORE_INDEX\n",
    "        mask = (Y != IGNORE_INDEX)\n",
    "        gold = Y.clamp_min(0)\n",
    "        ll   = logp.view(B*Lm, V).gather(1, gold.view(-1,1)).view(B,Lm)\n",
    "        nll -= (ll * mask).sum().item()\n",
    "        tokens += mask.sum().item()\n",
    "    ppl = math.exp(nll / max(tokens,1))\n",
    "    return ppl"
   ]
  },
  {
   "cell_type": "code",
   "execution_count": 16,
   "id": "d68cc4cf",
   "metadata": {},
   "outputs": [],
   "source": [
    "scorer = rouge_scorer.RougeScorer([\"rouge1\", \"rouge2\"], use_stemmer=False)\n",
    "\n",
    "@torch.no_grad()\n",
    "def evaluate_rouge(val_loader, max_gen=50):\n",
    "    model.eval()\n",
    "    totals = {\"rouge1\":0.0, \"rouge2\":0.0}\n",
    "    count  = 0\n",
    "    for batch in val_loader:\n",
    "        X, Y, L = batch[\"input_ids\"].to(device), batch[\"labels\"].to(device), batch[\"lengths\"]\n",
    "        # build X: keep first 3/4 of each sequence (by true length, not padded)\n",
    "        prefixes, refs = [], []\n",
    "        for i, Li in enumerate(L.tolist()):\n",
    "            cut = max(1, int(0.75 * Li))\n",
    "            prefixes.append(X[i, :cut])\n",
    "            # reference continuation (detokenize for ROUGE)\n",
    "            ref_ids = X[i, cut:Li]  # gold tail (labels are shifted)\n",
    "            refs.append(tokenizer.decode(ref_ids.tolist(), skip_special_tokens=True))\n",
    "        prefix_batch = pad_sequence(prefixes, batch_first=True, padding_value=pad_id).to(device)\n",
    "        gen_ids = model.generate(prefix_batch, max_new_tokens=max_gen, eos_id=eos_id)\n",
    "        # take only the newly generated tail\n",
    "        gens = []\n",
    "        for i, Li in enumerate(L.tolist()):\n",
    "            start = prefix_batch.shape[1]\n",
    "            gens.append(tokenizer.decode(gen_ids[i, start:].tolist(), skip_special_tokens=True))\n",
    "        for g,r in zip(gens, refs):\n",
    "            scores = scorer.score(r, g)\n",
    "            totals[\"rouge1\"] += scores[\"rouge1\"].fmeasure\n",
    "            totals[\"rouge2\"] += scores[\"rouge2\"].fmeasure\n",
    "            count += 1\n",
    "    return {k: v/max(count,1) for k,v in totals.items()}"
   ]
  },
  {
   "cell_type": "code",
   "execution_count": 17,
   "id": "4f9fc8dc",
   "metadata": {},
   "outputs": [],
   "source": [
    "save_dir = Path(\"./models\") / time.strftime(\"lstm_lm-%Y%m%d-%H%M%S\")\n",
    "save_dir.mkdir(parents=True, exist_ok=True)"
   ]
  },
  {
   "cell_type": "code",
   "execution_count": null,
   "id": "62dc58b5",
   "metadata": {},
   "outputs": [],
   "source": [
    "best_ppl = float(\"inf\")\n",
    "\n",
    "for epoch in range(5):\n",
    "    running = 0.0\n",
    "    for batch in train_loader:\n",
    "        running += step_train(batch)\n",
    "    train_loss = running / max(len(train_loader),1)\n",
    "    ppl = evaluate_perplexity(val_loader)\n",
    "    rouge = evaluate_rouge(val_loader, max_gen=64)\n",
    "    print(f\"epoch {epoch} | train_loss {train_loss:.3f} | val_ppl {ppl:.1f} | rouge1 {rouge['rouge1']:.3f} | rouge2 {rouge['rouge2']:.3f}\")\n",
    "\n",
    "    if ppl < best_ppl:\n",
    "        best_ppl = ppl\n",
    "        torch.save({\"model_state\": model.state_dict(),\n",
    "                    \"config\": {\"vocab_size\": tokenizer.vocab_size, \"pad_id\": pad_id, \"eos_id\": eos_id,\n",
    "                               \"emb_dim\": model.emb.embedding_dim, \"hidden_dim\": model.rnn.hidden_size,\n",
    "                               \"num_layers\": model.rnn.num_layers, \"tied\": True}},\n",
    "                   save_dir / \"model.pt\")\n",
    "        tokenizer.save_pretrained(save_dir)\n",
    "        with open(save_dir / \"meta.json\", \"w\") as f:\n",
    "            json.dump({\"best_val_ppl\": best_ppl, \"epoch\": epoch}, f, indent=2)\n",
    "print(\"saved to:\", str(save_dir))"
   ]
  }
 ],
 "metadata": {
  "kernelspec": {
   "display_name": ".venv",
   "language": "python",
   "name": "python3"
  },
  "language_info": {
   "codemirror_mode": {
    "name": "ipython",
    "version": 3
   },
   "file_extension": ".py",
   "mimetype": "text/x-python",
   "name": "python",
   "nbconvert_exporter": "python",
   "pygments_lexer": "ipython3",
   "version": "3.12.2"
  }
 },
 "nbformat": 4,
 "nbformat_minor": 5
}
