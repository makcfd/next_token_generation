{
 "cells": [
  {
   "cell_type": "code",
   "execution_count": 1,
   "id": "23d25e80",
   "metadata": {},
   "outputs": [
    {
     "name": "stderr",
     "output_type": "stream",
     "text": [
      "/home/ubuntu/.venv/lib/python3.10/site-packages/tqdm/auto.py:21: TqdmWarning: IProgress not found. Please update jupyter and ipywidgets. See https://ipywidgets.readthedocs.io/en/stable/user_install.html\n",
      "  from .autonotebook import tqdm as notebook_tqdm\n"
     ]
    }
   ],
   "source": [
    "import torch\n",
    "import torch.nn as nn\n",
    "import re\n",
    "import math, os, time, json\n",
    "import random\n",
    "import pandas as pd\n",
    "from torch.utils.data import Dataset, DataLoader\n",
    "from rouge_score import rouge_scorer \n",
    "from pathlib import Path\n",
    "from sklearn.model_selection import train_test_split\n",
    "from torch.nn.utils.rnn import pad_sequence, pack_padded_sequence, pad_packed_sequence\n",
    "from transformers import AutoTokenizer\n",
    "from torch.cuda.amp import autocast, GradScaler"
   ]
  },
  {
   "cell_type": "code",
   "execution_count": 2,
   "id": "2c8c3d46",
   "metadata": {},
   "outputs": [
    {
     "data": {
      "text/plain": [
       "<torch._C.Generator at 0x7f76318e4c70>"
      ]
     },
     "execution_count": 2,
     "metadata": {},
     "output_type": "execute_result"
    }
   ],
   "source": [
    "random.seed(42)\n",
    "torch.manual_seed(42)"
   ]
  },
  {
   "cell_type": "markdown",
   "id": "b8d807e9",
   "metadata": {},
   "source": [
    "## Get the data"
   ]
  },
  {
   "cell_type": "code",
   "execution_count": 3,
   "id": "11a0d043",
   "metadata": {},
   "outputs": [
    {
     "name": "stdout",
     "output_type": "stream",
     "text": [
      "--2025-09-12 18:13:39--  https://nyc3.digitaloceanspaces.com/ml-files-distro/v1/investigating-sentiment-analysis/data/training.1600000.processed.noemoticon.csv.zip\n",
      "Resolving nyc3.digitaloceanspaces.com (nyc3.digitaloceanspaces.com)... 162.243.189.2\n",
      "Connecting to nyc3.digitaloceanspaces.com (nyc3.digitaloceanspaces.com)|162.243.189.2|:443... connected.\n",
      "HTTP request sent, awaiting response... 200 OK\n",
      "Length: 85088192 (81M) [application/zip]\n",
      "Saving to: ‘data/training.1600000.processed.noemoticon.csv.zip’\n",
      "\n",
      "training.1600000.pr 100%[===================>]  81.15M  23.1MB/s    in 4.1s    \n",
      "\n",
      "2025-09-12 18:13:44 (19.8 MB/s) - ‘data/training.1600000.processed.noemoticon.csv.zip’ saved [85088192/85088192]\n",
      "\n",
      "Archive:  data/training.1600000.processed.noemoticon.csv.zip\n",
      "  inflating: data/training.1600000.processed.noemoticon.csv  \n"
     ]
    }
   ],
   "source": [
    "!mkdir -p data\n",
    "!wget -nc https://nyc3.digitaloceanspaces.com/ml-files-distro/v1/investigating-sentiment-analysis/data/training.1600000.processed.noemoticon.csv.zip -P data\n",
    "!unzip -n -d data data/training.1600000.processed.noemoticon.csv.zip"
   ]
  },
  {
   "cell_type": "markdown",
   "id": "c1ea332c",
   "metadata": {},
   "source": [
    "### Data Preparation\n",
    "1. Очистка и нормализация текста\n",
    "- Привести к нижнему регистру;\n",
    "- удалить ссылки, упоминания, эмодзи (по необходимости);\n",
    "- заменить нестандартные символы;\n",
    "- токенизировать текст.\n",
    "\n",
    "3. Формирование обучающих примеров (X → Y)\n",
    "По токенизированному датасету собираем примеры для обучения. \n",
    "Обрабатывая каждый токен, надо учиться предсказывать следующий. Поэтому таргет будет смещён на 1 токен вправо относительно исходной последовательности.\n",
    "Пример: исходный текст \"я собираюсь купить продукты\".\n",
    "X: [\"я\", \"собираюсь\", \"купить\"] → Y: [\"собираюсь\", \"купить\", \"продукты\"]\n",
    "4. Разделение на трейн, валидацию и тест\n",
    "Разбиваем датасет на обучающую, валидационную и тестовую выборки:\n",
    "трейн: 80%,\n",
    "валидация: 10%,\n",
    "тест: 10%.\n"
   ]
  },
  {
   "cell_type": "code",
   "execution_count": 4,
   "id": "bea142bb",
   "metadata": {},
   "outputs": [
    {
     "data": {
      "text/html": [
       "<div>\n",
       "<style scoped>\n",
       "    .dataframe tbody tr th:only-of-type {\n",
       "        vertical-align: middle;\n",
       "    }\n",
       "\n",
       "    .dataframe tbody tr th {\n",
       "        vertical-align: top;\n",
       "    }\n",
       "\n",
       "    .dataframe thead th {\n",
       "        text-align: right;\n",
       "    }\n",
       "</style>\n",
       "<table border=\"1\" class=\"dataframe\">\n",
       "  <thead>\n",
       "    <tr style=\"text-align: right;\">\n",
       "      <th></th>\n",
       "      <th>polarity</th>\n",
       "      <th>id</th>\n",
       "      <th>date</th>\n",
       "      <th>query</th>\n",
       "      <th>user</th>\n",
       "      <th>text</th>\n",
       "    </tr>\n",
       "  </thead>\n",
       "  <tbody>\n",
       "    <tr>\n",
       "      <th>0</th>\n",
       "      <td>0</td>\n",
       "      <td>1467810369</td>\n",
       "      <td>Mon Apr 06 22:19:45 PDT 2009</td>\n",
       "      <td>NO_QUERY</td>\n",
       "      <td>_TheSpecialOne_</td>\n",
       "      <td>@switchfoot http://twitpic.com/2y1zl - Awww, t...</td>\n",
       "    </tr>\n",
       "    <tr>\n",
       "      <th>1</th>\n",
       "      <td>0</td>\n",
       "      <td>1467810672</td>\n",
       "      <td>Mon Apr 06 22:19:49 PDT 2009</td>\n",
       "      <td>NO_QUERY</td>\n",
       "      <td>scotthamilton</td>\n",
       "      <td>is upset that he can't update his Facebook by ...</td>\n",
       "    </tr>\n",
       "    <tr>\n",
       "      <th>2</th>\n",
       "      <td>0</td>\n",
       "      <td>1467810917</td>\n",
       "      <td>Mon Apr 06 22:19:53 PDT 2009</td>\n",
       "      <td>NO_QUERY</td>\n",
       "      <td>mattycus</td>\n",
       "      <td>@Kenichan I dived many times for the ball. Man...</td>\n",
       "    </tr>\n",
       "    <tr>\n",
       "      <th>3</th>\n",
       "      <td>0</td>\n",
       "      <td>1467811184</td>\n",
       "      <td>Mon Apr 06 22:19:57 PDT 2009</td>\n",
       "      <td>NO_QUERY</td>\n",
       "      <td>ElleCTF</td>\n",
       "      <td>my whole body feels itchy and like its on fire</td>\n",
       "    </tr>\n",
       "    <tr>\n",
       "      <th>4</th>\n",
       "      <td>0</td>\n",
       "      <td>1467811193</td>\n",
       "      <td>Mon Apr 06 22:19:57 PDT 2009</td>\n",
       "      <td>NO_QUERY</td>\n",
       "      <td>Karoli</td>\n",
       "      <td>@nationwideclass no, it's not behaving at all....</td>\n",
       "    </tr>\n",
       "  </tbody>\n",
       "</table>\n",
       "</div>"
      ],
      "text/plain": [
       "   polarity          id                          date     query  \\\n",
       "0         0  1467810369  Mon Apr 06 22:19:45 PDT 2009  NO_QUERY   \n",
       "1         0  1467810672  Mon Apr 06 22:19:49 PDT 2009  NO_QUERY   \n",
       "2         0  1467810917  Mon Apr 06 22:19:53 PDT 2009  NO_QUERY   \n",
       "3         0  1467811184  Mon Apr 06 22:19:57 PDT 2009  NO_QUERY   \n",
       "4         0  1467811193  Mon Apr 06 22:19:57 PDT 2009  NO_QUERY   \n",
       "\n",
       "              user                                               text  \n",
       "0  _TheSpecialOne_  @switchfoot http://twitpic.com/2y1zl - Awww, t...  \n",
       "1    scotthamilton  is upset that he can't update his Facebook by ...  \n",
       "2         mattycus  @Kenichan I dived many times for the ball. Man...  \n",
       "3          ElleCTF    my whole body feels itchy and like its on fire   \n",
       "4           Karoli  @nationwideclass no, it's not behaving at all....  "
      ]
     },
     "execution_count": 4,
     "metadata": {},
     "output_type": "execute_result"
    }
   ],
   "source": [
    "df = pd.read_csv(\"./data/training.1600000.processed.noemoticon.csv\", names=['polarity', 'id', 'date', 'query', 'user', 'text'],\n",
    "                encoding='latin-1')\n",
    "df.head()"
   ]
  },
  {
   "cell_type": "code",
   "execution_count": 5,
   "id": "aa55d030",
   "metadata": {},
   "outputs": [
    {
     "data": {
      "text/html": [
       "<div>\n",
       "<style scoped>\n",
       "    .dataframe tbody tr th:only-of-type {\n",
       "        vertical-align: middle;\n",
       "    }\n",
       "\n",
       "    .dataframe tbody tr th {\n",
       "        vertical-align: top;\n",
       "    }\n",
       "\n",
       "    .dataframe thead th {\n",
       "        text-align: right;\n",
       "    }\n",
       "</style>\n",
       "<table border=\"1\" class=\"dataframe\">\n",
       "  <thead>\n",
       "    <tr style=\"text-align: right;\">\n",
       "      <th></th>\n",
       "      <th>text</th>\n",
       "    </tr>\n",
       "  </thead>\n",
       "  <tbody>\n",
       "    <tr>\n",
       "      <th>0</th>\n",
       "      <td>@switchfoot http://twitpic.com/2y1zl - Awww, t...</td>\n",
       "    </tr>\n",
       "    <tr>\n",
       "      <th>1</th>\n",
       "      <td>is upset that he can't update his Facebook by ...</td>\n",
       "    </tr>\n",
       "    <tr>\n",
       "      <th>2</th>\n",
       "      <td>@Kenichan I dived many times for the ball. Man...</td>\n",
       "    </tr>\n",
       "    <tr>\n",
       "      <th>3</th>\n",
       "      <td>my whole body feels itchy and like its on fire</td>\n",
       "    </tr>\n",
       "    <tr>\n",
       "      <th>4</th>\n",
       "      <td>@nationwideclass no, it's not behaving at all....</td>\n",
       "    </tr>\n",
       "  </tbody>\n",
       "</table>\n",
       "</div>"
      ],
      "text/plain": [
       "                                                text\n",
       "0  @switchfoot http://twitpic.com/2y1zl - Awww, t...\n",
       "1  is upset that he can't update his Facebook by ...\n",
       "2  @Kenichan I dived many times for the ball. Man...\n",
       "3    my whole body feels itchy and like its on fire \n",
       "4  @nationwideclass no, it's not behaving at all...."
      ]
     },
     "execution_count": 5,
     "metadata": {},
     "output_type": "execute_result"
    }
   ],
   "source": [
    "df = df.drop(columns=['id', 'date', 'query', 'user', 'polarity'])\n",
    "df.head()"
   ]
  },
  {
   "cell_type": "code",
   "execution_count": 6,
   "id": "cf63c1b6",
   "metadata": {},
   "outputs": [],
   "source": [
    "def clean_string(text):\n",
    "    # приведение к нижнему регистру\n",
    "    text = text.lower()\n",
    "    # удаление всего, кроме латинских букв, цифр и пробелов\n",
    "    text = re.sub(r'[^a-z0-9\\s]', '', text)\n",
    "    # удаление дублирующихся пробелов, удаление пробелов по краям\n",
    "    text = re.sub(r'\\s+', ' ', text).strip()    \n",
    "    return text"
   ]
  },
  {
   "cell_type": "code",
   "execution_count": 7,
   "id": "4f35c488",
   "metadata": {},
   "outputs": [],
   "source": [
    "df[\"cleaned_text\"] = df[\"text\"].apply(clean_string)"
   ]
  },
  {
   "cell_type": "code",
   "execution_count": 8,
   "id": "64c2b45d",
   "metadata": {},
   "outputs": [
    {
     "data": {
      "text/html": [
       "<div>\n",
       "<style scoped>\n",
       "    .dataframe tbody tr th:only-of-type {\n",
       "        vertical-align: middle;\n",
       "    }\n",
       "\n",
       "    .dataframe tbody tr th {\n",
       "        vertical-align: top;\n",
       "    }\n",
       "\n",
       "    .dataframe thead th {\n",
       "        text-align: right;\n",
       "    }\n",
       "</style>\n",
       "<table border=\"1\" class=\"dataframe\">\n",
       "  <thead>\n",
       "    <tr style=\"text-align: right;\">\n",
       "      <th></th>\n",
       "      <th>text</th>\n",
       "      <th>cleaned_text</th>\n",
       "    </tr>\n",
       "  </thead>\n",
       "  <tbody>\n",
       "    <tr>\n",
       "      <th>0</th>\n",
       "      <td>@switchfoot http://twitpic.com/2y1zl - Awww, t...</td>\n",
       "      <td>switchfoot httptwitpiccom2y1zl awww thats a bu...</td>\n",
       "    </tr>\n",
       "    <tr>\n",
       "      <th>1</th>\n",
       "      <td>is upset that he can't update his Facebook by ...</td>\n",
       "      <td>is upset that he cant update his facebook by t...</td>\n",
       "    </tr>\n",
       "    <tr>\n",
       "      <th>2</th>\n",
       "      <td>@Kenichan I dived many times for the ball. Man...</td>\n",
       "      <td>kenichan i dived many times for the ball manag...</td>\n",
       "    </tr>\n",
       "    <tr>\n",
       "      <th>3</th>\n",
       "      <td>my whole body feels itchy and like its on fire</td>\n",
       "      <td>my whole body feels itchy and like its on fire</td>\n",
       "    </tr>\n",
       "    <tr>\n",
       "      <th>4</th>\n",
       "      <td>@nationwideclass no, it's not behaving at all....</td>\n",
       "      <td>nationwideclass no its not behaving at all im ...</td>\n",
       "    </tr>\n",
       "  </tbody>\n",
       "</table>\n",
       "</div>"
      ],
      "text/plain": [
       "                                                text  \\\n",
       "0  @switchfoot http://twitpic.com/2y1zl - Awww, t...   \n",
       "1  is upset that he can't update his Facebook by ...   \n",
       "2  @Kenichan I dived many times for the ball. Man...   \n",
       "3    my whole body feels itchy and like its on fire    \n",
       "4  @nationwideclass no, it's not behaving at all....   \n",
       "\n",
       "                                        cleaned_text  \n",
       "0  switchfoot httptwitpiccom2y1zl awww thats a bu...  \n",
       "1  is upset that he cant update his facebook by t...  \n",
       "2  kenichan i dived many times for the ball manag...  \n",
       "3     my whole body feels itchy and like its on fire  \n",
       "4  nationwideclass no its not behaving at all im ...  "
      ]
     },
     "execution_count": 8,
     "metadata": {},
     "output_type": "execute_result"
    }
   ],
   "source": [
    "df.head()"
   ]
  },
  {
   "cell_type": "code",
   "execution_count": 9,
   "id": "0b2cbb20",
   "metadata": {},
   "outputs": [],
   "source": [
    "df.to_csv(\"./data/tweets_cleaned.csv\")"
   ]
  },
  {
   "cell_type": "code",
   "execution_count": 3,
   "id": "9b04f557",
   "metadata": {},
   "outputs": [],
   "source": [
    "df = pd.read_csv(\"./data/tweets_cleaned.csv\")"
   ]
  },
  {
   "cell_type": "markdown",
   "id": "9b2ae3ac",
   "metadata": {},
   "source": [
    "### Data preparation"
   ]
  },
  {
   "cell_type": "code",
   "execution_count": 10,
   "id": "bb6205d1",
   "metadata": {},
   "outputs": [],
   "source": [
    "model_name = \"bert-base-uncased\"\n",
    "tokenizer = AutoTokenizer.from_pretrained(model_name)\n",
    "pad_id = tokenizer.pad_token_id       \n",
    "eos_id = tokenizer.sep_token_id  "
   ]
  },
  {
   "cell_type": "code",
   "execution_count": 11,
   "id": "b925d2e5",
   "metadata": {},
   "outputs": [
    {
     "name": "stdout",
     "output_type": "stream",
     "text": [
      "Train texts: 1280000, Val_Test texts: 320000\n",
      "Val texts: 160000, Test texts: 160000\n"
     ]
    }
   ],
   "source": [
    "val_test_size = 0.20\n",
    "test_size = 0.50\n",
    "\n",
    "train_texts, val_test_texts = train_test_split(list(df[\"cleaned_text\"]), test_size=val_test_size, random_state=42)\n",
    "print(f\"Train texts: {len(train_texts)}, Val_Test texts: {len(val_test_texts)}\")\n",
    "val_texts, test_texts = train_test_split(val_test_texts, test_size=test_size, random_state=42)\n",
    "print(f\"Val texts: {len(val_texts)}, Test texts: {len(test_texts)}\")"
   ]
  },
  {
   "cell_type": "code",
   "execution_count": 12,
   "id": "8a8ac1e6",
   "metadata": {},
   "outputs": [],
   "source": [
    "IGNORE_INDEX = -100  # совместимо с CrossEntropyLoss(ignore_index)\n",
    "\n",
    "class NextTokenDataset(Dataset):\n",
    "    def __init__(self, texts, max_len=None):\n",
    "        self.texts = texts\n",
    "        self.max_len = max_len\n",
    "\n",
    "    def __len__(self): \n",
    "        return len(self.texts)\n",
    "    \n",
    "    def __getitem__(self, idx):\n",
    "        ids = tokenizer.encode(self.texts[idx],\n",
    "                               add_special_tokens=False,\n",
    "                               truncation=True, max_length=self.max_len)\n",
    "        \n",
    "        if not ids or ids[-1] != eos_id:\n",
    "            ids = ids + [eos_id]\n",
    "        x = torch.tensor(ids[:-1], dtype=torch.long)\n",
    "        y = torch.tensor(ids[1:],  dtype=torch.long)\n",
    "        return {\"input_ids\": x, \"labels\": y}\n",
    "\n",
    "def collate_batch(batch, train_last_quarter=True):\n",
    "    xs  = [b[\"input_ids\"] for b in batch]\n",
    "    ys  = [b[\"labels\"]    for b in batch]\n",
    "    lengths = torch.tensor([len(x) for x in xs], dtype=torch.long)\n",
    "\n",
    "    X = pad_sequence(xs, batch_first=True, padding_value=pad_id)\n",
    "    Y = pad_sequence(ys, batch_first=True, padding_value=IGNORE_INDEX)\n",
    "\n",
    "    if train_last_quarter:\n",
    "        for i, L in enumerate(lengths.tolist()):\n",
    "            cut = int(0.75 * L)\n",
    "            if cut > 0:\n",
    "                Y[i, :cut] = IGNORE_INDEX\n",
    "    return {\"input_ids\": X, \"labels\": Y, \"lengths\": lengths}"
   ]
  },
  {
   "cell_type": "code",
   "execution_count": 13,
   "id": "ca17529d",
   "metadata": {},
   "outputs": [
    {
     "name": "stdout",
     "output_type": "stream",
     "text": [
      "device: cuda\n"
     ]
    }
   ],
   "source": [
    "device = (\n",
    "    torch.device(\"cuda\") if torch.cuda.is_available() else\n",
    "    torch.device(\"mps\")  if torch.backends.mps.is_available() else\n",
    "    torch.device(\"cpu\")\n",
    ")\n",
    "print(\"device:\", device)"
   ]
  },
  {
   "cell_type": "code",
   "execution_count": 14,
   "id": "12e03c3d",
   "metadata": {},
   "outputs": [],
   "source": [
    "\n",
    "train_ds = NextTokenDataset(train_texts, max_len=256)\n",
    "val_ds = NextTokenDataset(val_test_texts, max_len=256) \n",
    "\n",
    "train_loader = DataLoader(\n",
    "    train_ds, batch_size=256, shuffle=True,\n",
    "    collate_fn=collate_batch,\n",
    "    #num_workers=os.cpu_count()//2 or 2,\n",
    "    #pin_memory=(device.type==\"cuda\"),\n",
    "    #persistent_workers=True\n",
    ")\n",
    "val_loader = DataLoader(\n",
    "    val_ds, batch_size=256, shuffle=False,\n",
    "    collate_fn=collate_batch,\n",
    "    #num_workers=os.cpu_count()//2 or 2,\n",
    "    #pin_memory=(device.type==\"cuda\"),\n",
    "    #persistent_workers=True\n",
    ")"
   ]
  },
  {
   "cell_type": "code",
   "execution_count": 15,
   "id": "c37f9ad7",
   "metadata": {},
   "outputs": [
    {
     "name": "stdout",
     "output_type": "stream",
     "text": [
      "Количество батчей в train_dataloader: 5000\n",
      "Количество батчей в val_dataloader: 1250\n"
     ]
    }
   ],
   "source": [
    "print(f'Количество батчей в train_dataloader: {len(train_loader)}')\n",
    "print(f'Количество батчей в val_dataloader: {len(val_loader)}')"
   ]
  },
  {
   "cell_type": "code",
   "execution_count": 16,
   "id": "e3281905",
   "metadata": {},
   "outputs": [
    {
     "name": "stdout",
     "output_type": "stream",
     "text": [
      "input_ids: torch.Size([256, 41])\n",
      "lengths: torch.Size([256])\n",
      "labels: torch.Size([256, 41])\n"
     ]
    }
   ],
   "source": [
    "for batch in train_loader:\n",
    "    print('input_ids:', batch['input_ids'].shape)\n",
    "    print('lengths:', batch['lengths'].shape)\n",
    "    print('labels:', batch['labels'].shape)\n",
    "    break"
   ]
  },
  {
   "cell_type": "code",
   "execution_count": 17,
   "id": "3c2d61ac",
   "metadata": {},
   "outputs": [],
   "source": [
    "class LSTMLM(nn.Module):\n",
    "    def __init__(self, vocab_size, emb_dim, hidden_dim, num_layers=1, pad_id=0):\n",
    "        super().__init__()\n",
    "        self.emb = nn.Embedding(vocab_size, emb_dim, padding_idx=pad_id)\n",
    "        self.rnn = nn.LSTM(emb_dim, hidden_dim, num_layers=num_layers, batch_first=True)\n",
    "        self.head = nn.Linear(hidden_dim, vocab_size)\n",
    "\n",
    "    def forward(self, input_ids, lengths):\n",
    "        # 1) Embed padded batch\n",
    "        x = self.emb(input_ids)  # B×L×E\n",
    "\n",
    "        # 2) Pack so RNN ignores padding\n",
    "        packed = pack_padded_sequence(x, lengths.cpu(), batch_first=True, enforce_sorted=False)\n",
    "\n",
    "        # 3) Run LSTM on packed input\n",
    "        packed_out, _ = self.rnn(packed)  # still packed\n",
    "\n",
    "        # 4) Unpack back to padded (B×L×H) to align with padded labels\n",
    "        out_padded, _ = pad_packed_sequence(packed_out, batch_first=True)\n",
    "\n",
    "        # 5) Project to vocab\n",
    "        logits = self.head(out_padded)  # B×L×V\n",
    "        return logits\n",
    "\n",
    "    @torch.no_grad()\n",
    "    def generate(self, prefix_ids: torch.Tensor, max_new_tokens: int, eos_id: int):\n",
    "        # prefix_ids: (B, L0) padded with pad_id on right (we’ll step only from actual last token)\n",
    "        self.eval()\n",
    "        B, L0 = prefix_ids.shape\n",
    "        # Warm-up hidden state by running the full prefix through the LSTM\n",
    "        lengths = (prefix_ids != self.emb.padding_idx).sum(dim=1)\n",
    "        x = self.emb(prefix_ids)\n",
    "        packed = pack_padded_sequence(x, lengths.cpu(), batch_first=True, enforce_sorted=False)\n",
    "        packed_out, (h, c) = self.rnn(packed)  # get final hidden state for each seq\n",
    "        # Now generate step-by-step\n",
    "        seq = prefix_ids.clone()\n",
    "        for _ in range(max_new_tokens):\n",
    "            # Take last non-pad token for each sequence:\n",
    "            last_tokens = []\n",
    "            for i in range(B):\n",
    "                li = lengths[i].item()\n",
    "                last_tokens.append(seq[i, li-1:li])\n",
    "            last_tokens = torch.vstack(last_tokens)  # B×1\n",
    "            x1 = self.emb(last_tokens)              # B×1×E\n",
    "            out, (h, c) = self.rnn(x1, (h, c))      # B×1×H\n",
    "            logits = self.head(out)                 # B×1×V\n",
    "            next_id = logits.argmax(dim=-1)         # B×1\n",
    "            # append\n",
    "            seq = torch.cat([seq, next_id], dim=1)\n",
    "            lengths = lengths + (next_id != self.emb.padding_idx).squeeze(1).long()\n",
    "            # early stop if all hit EOS\n",
    "            if (next_id.squeeze(1) == eos_id).all():\n",
    "                break\n",
    "        return seq\n"
   ]
  },
  {
   "cell_type": "code",
   "execution_count": 18,
   "id": "5cd0028b",
   "metadata": {},
   "outputs": [
    {
     "name": "stderr",
     "output_type": "stream",
     "text": [
      "huggingface/tokenizers: The current process just got forked, after parallelism has already been used. Disabling parallelism to avoid deadlocks...\n",
      "To disable this warning, you can either:\n",
      "\t- Avoid using `tokenizers` before the fork if possible\n",
      "\t- Explicitly set the environment variable TOKENIZERS_PARALLELISM=(true | false)\n",
      "huggingface/tokenizers: The current process just got forked, after parallelism has already been used. Disabling parallelism to avoid deadlocks...\n",
      "To disable this warning, you can either:\n",
      "\t- Avoid using `tokenizers` before the fork if possible\n",
      "\t- Explicitly set the environment variable TOKENIZERS_PARALLELISM=(true | false)\n",
      "/tmp/ipykernel_5706/4228556493.py:9: FutureWarning: `torch.cuda.amp.GradScaler(args...)` is deprecated. Please use `torch.amp.GradScaler('cuda', args...)` instead.\n",
      "  scaler = GradScaler(enabled=(device.type==\"cuda\"))\n"
     ]
    }
   ],
   "source": [
    "model = LSTMLM(\n",
    "    vocab_size=tokenizer.vocab_size,\n",
    "    emb_dim=256, hidden_dim=512, num_layers=1, pad_id=pad_id\n",
    ")\n",
    "model.to(device)\n",
    "\n",
    "optimizer = torch.optim.AdamW(model.parameters(), lr=2e-3)\n",
    "\n",
    "scaler = GradScaler(enabled=(device.type==\"cuda\"))\n",
    "criterion = nn.CrossEntropyLoss(ignore_index=IGNORE_INDEX)"
   ]
  },
  {
   "cell_type": "code",
   "execution_count": 19,
   "id": "8fb78543",
   "metadata": {},
   "outputs": [],
   "source": [
    "def step_train(batch):\n",
    "    model.train()\n",
    "    X, Y, L = batch[\"input_ids\"].to(device, non_blocking=True), batch[\"labels\"].to(device, non_blocking=True), batch[\"lengths\"].to(device)\n",
    "    optimizer.zero_grad(set_to_none=True)\n",
    "    ctx = autocast(enabled=(device.type==\"cuda\"))\n",
    "    with ctx:\n",
    "        logits = model(X, L)                  # (B,L,V)\n",
    "        B,Lm,V = logits.shape\n",
    "        loss = criterion(logits.view(B*Lm, V), Y.view(B*Lm))\n",
    "    scaler.scale(loss).backward()\n",
    "    nn.utils.clip_grad_norm_(model.parameters(), 1.0)\n",
    "    scaler.step(optimizer)\n",
    "    scaler.update()\n",
    "    return loss.item()"
   ]
  },
  {
   "cell_type": "code",
   "execution_count": 20,
   "id": "68258eef",
   "metadata": {},
   "outputs": [],
   "source": [
    "@torch.no_grad()\n",
    "def evaluate_perplexity(val_loader):\n",
    "    model.eval()\n",
    "    nll, tokens = 0.0, 0\n",
    "    for batch in val_loader:\n",
    "        X, Y, L = batch[\"input_ids\"].to(device), batch[\"labels\"].to(device), batch[\"lengths\"].to(device)\n",
    "        logits = model(X, L)\n",
    "        B,Lm,V = logits.shape\n",
    "        logp = torch.log_softmax(logits, dim=-1)\n",
    "        # gather gold log-probs where Y != IGNORE_INDEX\n",
    "        mask = (Y != IGNORE_INDEX)\n",
    "        gold = Y.clamp_min(0)\n",
    "        ll   = logp.view(B*Lm, V).gather(1, gold.view(-1,1)).view(B,Lm)\n",
    "        nll -= (ll * mask).sum().item()\n",
    "        tokens += mask.sum().item()\n",
    "    ppl = math.exp(nll / max(tokens,1))\n",
    "    return ppl  # Perplexity (exp of average NLL).  # :contentReference[oaicite:10]{index=10}\n"
   ]
  },
  {
   "cell_type": "code",
   "execution_count": 21,
   "id": "d68cc4cf",
   "metadata": {},
   "outputs": [],
   "source": [
    "scorer = rouge_scorer.RougeScorer([\"rouge1\", \"rouge2\"], use_stemmer=False)\n",
    "\n",
    "@torch.no_grad()\n",
    "def evaluate_rouge(val_loader, max_gen=50):\n",
    "    model.eval()\n",
    "    totals = {\"rouge1\":0.0, \"rouge2\":0.0}\n",
    "    count  = 0\n",
    "    for batch in val_loader:\n",
    "        X, Y, L = batch[\"input_ids\"].to(device), batch[\"labels\"].to(device), batch[\"lengths\"]\n",
    "        # build prefix: keep first 3/4 of each sequence (by true length, not padded)\n",
    "        prefixes, refs = [], []\n",
    "        for i, Li in enumerate(L.tolist()):\n",
    "            cut = max(1, int(0.75 * Li))\n",
    "            prefixes.append(X[i, :cut])\n",
    "            # reference continuation (detokenize for ROUGE)\n",
    "            ref_ids = X[i, cut:Li]  # gold tail (labels are shifted)\n",
    "            refs.append(tokenizer.decode(ref_ids.tolist(), skip_special_tokens=True))\n",
    "        prefix_batch = pad_sequence(prefixes, batch_first=True, padding_value=pad_id).to(device)\n",
    "        gen_ids = model.generate(prefix_batch, max_new_tokens=max_gen, eos_id=eos_id)\n",
    "        # take only the newly generated tail\n",
    "        gens = []\n",
    "        for i, Li in enumerate(L.tolist()):\n",
    "            start = prefix_batch.shape[1]\n",
    "            gens.append(tokenizer.decode(gen_ids[i, start:].tolist(), skip_special_tokens=True))\n",
    "        for g,r in zip(gens, refs):\n",
    "            scores = scorer.score(r, g)\n",
    "            totals[\"rouge1\"] += scores[\"rouge1\"].fmeasure\n",
    "            totals[\"rouge2\"] += scores[\"rouge2\"].fmeasure\n",
    "            count += 1\n",
    "    return {k: v/max(count,1) for k,v in totals.items()}"
   ]
  },
  {
   "cell_type": "code",
   "execution_count": 22,
   "id": "4f9fc8dc",
   "metadata": {},
   "outputs": [],
   "source": [
    "\n",
    "# --- Training loop with validation, checkpoints ---\n",
    "save_dir = Path(\"./models\") / time.strftime(\"lstm_lm-%Y%m%d-%H%M%S\")\n",
    "save_dir.mkdir(parents=True, exist_ok=True)\n"
   ]
  },
  {
   "cell_type": "code",
   "execution_count": 23,
   "id": "62dc58b5",
   "metadata": {},
   "outputs": [
    {
     "name": "stderr",
     "output_type": "stream",
     "text": [
      "/tmp/ipykernel_5706/731985520.py:5: FutureWarning: `torch.cuda.amp.autocast(args...)` is deprecated. Please use `torch.amp.autocast('cuda', args...)` instead.\n",
      "  ctx = autocast(enabled=(device.type==\"cuda\"))\n"
     ]
    },
    {
     "name": "stdout",
     "output_type": "stream",
     "text": [
      "epoch 0 | train_loss 4.954 | val_ppl 107.2 | rouge1 0.037 | rouge2 0.001\n",
      "epoch 1 | train_loss 4.587 | val_ppl 101.0 | rouge1 0.029 | rouge2 0.001\n",
      "epoch 2 | train_loss 4.560 | val_ppl 101.4 | rouge1 0.032 | rouge2 0.001\n",
      "epoch 3 | train_loss 4.569 | val_ppl 101.9 | rouge1 0.035 | rouge2 0.001\n",
      "epoch 4 | train_loss 4.568 | val_ppl 101.8 | rouge1 0.036 | rouge2 0.001\n",
      "saved to: models/lstm_lm-20250912-181525\n"
     ]
    }
   ],
   "source": [
    "\n",
    "best_ppl = float(\"inf\")\n",
    "for epoch in range(5):\n",
    "    running = 0.0\n",
    "    for batch in train_loader:\n",
    "        running += step_train(batch)\n",
    "    train_loss = running / max(len(train_loader),1)\n",
    "    ppl = evaluate_perplexity(val_loader)\n",
    "    rouge = evaluate_rouge(val_loader, max_gen=64)\n",
    "    print(f\"epoch {epoch} | train_loss {train_loss:.3f} | val_ppl {ppl:.1f} | rouge1 {rouge['rouge1']:.3f} | rouge2 {rouge['rouge2']:.3f}\")\n",
    "\n",
    "    # save best by perplexity\n",
    "    if ppl < best_ppl:\n",
    "        best_ppl = ppl\n",
    "        torch.save({\"model_state\": model.state_dict(),\n",
    "                    \"config\": {\"vocab_size\": tokenizer.vocab_size, \"pad_id\": pad_id, \"eos_id\": eos_id,\n",
    "                               \"emb_dim\": model.emb.embedding_dim, \"hidden_dim\": model.rnn.hidden_size,\n",
    "                               \"num_layers\": model.rnn.num_layers, \"tied\": True}},\n",
    "                   save_dir / \"model.pt\")\n",
    "        tokenizer.save_pretrained(save_dir)  # saves tokenizer files alongside\n",
    "        with open(save_dir / \"meta.json\", \"w\") as f:\n",
    "            json.dump({\"best_val_ppl\": best_ppl, \"epoch\": epoch}, f, indent=2)\n",
    "print(\"saved to:\", str(save_dir))"
   ]
  },
  {
   "cell_type": "markdown",
   "id": "020c707c",
   "metadata": {},
   "source": [
    "# Previous"
   ]
  },
  {
   "cell_type": "code",
   "execution_count": null,
   "id": "0880d4bb",
   "metadata": {},
   "outputs": [],
   "source": [
    "\n",
    "# If you didn't keep train_step, here it is (packing handled inside model.forward):\n",
    "def train_step(model, batch, optimizer):\n",
    "    logits = model(batch[\"input_ids\"], batch[\"lengths\"])  # B×L×V\n",
    "    B, L, V = logits.shape\n",
    "    loss = criterion(logits.view(B*L, V), batch[\"labels\"].view(B*L))\n",
    "    optimizer.zero_grad()\n",
    "    loss.backward()\n",
    "    nn.utils.clip_grad_norm_(model.parameters(), 1.0)     # optional but helpful\n",
    "    optimizer.step()\n",
    "    return loss.item()\n"
   ]
  },
  {
   "cell_type": "code",
   "execution_count": 32,
   "id": "45d94f98",
   "metadata": {},
   "outputs": [
    {
     "ename": "KeyboardInterrupt",
     "evalue": "",
     "output_type": "error",
     "traceback": [
      "\u001b[0;31m---------------------------------------------------------------------------\u001b[0m",
      "\u001b[0;31mKeyboardInterrupt\u001b[0m                         Traceback (most recent call last)",
      "Cell \u001b[0;32mIn[32], line 6\u001b[0m\n\u001b[1;32m      4\u001b[0m total \u001b[38;5;241m=\u001b[39m \u001b[38;5;241m0.0\u001b[39m\n\u001b[1;32m      5\u001b[0m \u001b[38;5;28;01mfor\u001b[39;00m batch \u001b[38;5;129;01min\u001b[39;00m train_loader:\n\u001b[0;32m----> 6\u001b[0m     total \u001b[38;5;241m+\u001b[39m\u001b[38;5;241m=\u001b[39m \u001b[43mtrain_step\u001b[49m\u001b[43m(\u001b[49m\u001b[43mmodel\u001b[49m\u001b[43m,\u001b[49m\u001b[43m \u001b[49m\u001b[43mbatch\u001b[49m\u001b[43m,\u001b[49m\u001b[43m \u001b[49m\u001b[43moptimizer\u001b[49m\u001b[43m)\u001b[49m\n\u001b[1;32m      7\u001b[0m \u001b[38;5;28mprint\u001b[39m(\u001b[38;5;124mf\u001b[39m\u001b[38;5;124m\"\u001b[39m\u001b[38;5;124mepoch \u001b[39m\u001b[38;5;132;01m{\u001b[39;00mepoch\u001b[38;5;132;01m}\u001b[39;00m\u001b[38;5;124m | train_loss \u001b[39m\u001b[38;5;132;01m{\u001b[39;00mtotal\u001b[38;5;241m/\u001b[39m\u001b[38;5;28mlen\u001b[39m(train_loader)\u001b[38;5;132;01m:\u001b[39;00m\u001b[38;5;124m.3f\u001b[39m\u001b[38;5;132;01m}\u001b[39;00m\u001b[38;5;124m\"\u001b[39m)\n",
      "Cell \u001b[0;32mIn[31], line 5\u001b[0m, in \u001b[0;36mtrain_step\u001b[0;34m(model, batch, optimizer)\u001b[0m\n\u001b[1;32m      3\u001b[0m logits \u001b[38;5;241m=\u001b[39m model(batch[\u001b[38;5;124m\"\u001b[39m\u001b[38;5;124minput_ids\u001b[39m\u001b[38;5;124m\"\u001b[39m], batch[\u001b[38;5;124m\"\u001b[39m\u001b[38;5;124mlengths\u001b[39m\u001b[38;5;124m\"\u001b[39m])  \u001b[38;5;66;03m# B×L×V\u001b[39;00m\n\u001b[1;32m      4\u001b[0m B, L, V \u001b[38;5;241m=\u001b[39m logits\u001b[38;5;241m.\u001b[39mshape\n\u001b[0;32m----> 5\u001b[0m loss \u001b[38;5;241m=\u001b[39m \u001b[43mcriterion\u001b[49m\u001b[43m(\u001b[49m\u001b[43mlogits\u001b[49m\u001b[38;5;241;43m.\u001b[39;49m\u001b[43mview\u001b[49m\u001b[43m(\u001b[49m\u001b[43mB\u001b[49m\u001b[38;5;241;43m*\u001b[39;49m\u001b[43mL\u001b[49m\u001b[43m,\u001b[49m\u001b[43m \u001b[49m\u001b[43mV\u001b[49m\u001b[43m)\u001b[49m\u001b[43m,\u001b[49m\u001b[43m \u001b[49m\u001b[43mbatch\u001b[49m\u001b[43m[\u001b[49m\u001b[38;5;124;43m\"\u001b[39;49m\u001b[38;5;124;43mlabels\u001b[39;49m\u001b[38;5;124;43m\"\u001b[39;49m\u001b[43m]\u001b[49m\u001b[38;5;241;43m.\u001b[39;49m\u001b[43mview\u001b[49m\u001b[43m(\u001b[49m\u001b[43mB\u001b[49m\u001b[38;5;241;43m*\u001b[39;49m\u001b[43mL\u001b[49m\u001b[43m)\u001b[49m\u001b[43m)\u001b[49m\n\u001b[1;32m      6\u001b[0m optimizer\u001b[38;5;241m.\u001b[39mzero_grad()\n\u001b[1;32m      7\u001b[0m loss\u001b[38;5;241m.\u001b[39mbackward()\n",
      "File \u001b[0;32m~/PyPetProjects/yandex_nlp/final_project_sprint_2/.venv/lib/python3.12/site-packages/torch/nn/modules/module.py:1751\u001b[0m, in \u001b[0;36mModule._wrapped_call_impl\u001b[0;34m(self, *args, **kwargs)\u001b[0m\n\u001b[1;32m   1749\u001b[0m     \u001b[38;5;28;01mreturn\u001b[39;00m \u001b[38;5;28mself\u001b[39m\u001b[38;5;241m.\u001b[39m_compiled_call_impl(\u001b[38;5;241m*\u001b[39margs, \u001b[38;5;241m*\u001b[39m\u001b[38;5;241m*\u001b[39mkwargs)  \u001b[38;5;66;03m# type: ignore[misc]\u001b[39;00m\n\u001b[1;32m   1750\u001b[0m \u001b[38;5;28;01melse\u001b[39;00m:\n\u001b[0;32m-> 1751\u001b[0m     \u001b[38;5;28;01mreturn\u001b[39;00m \u001b[38;5;28;43mself\u001b[39;49m\u001b[38;5;241;43m.\u001b[39;49m\u001b[43m_call_impl\u001b[49m\u001b[43m(\u001b[49m\u001b[38;5;241;43m*\u001b[39;49m\u001b[43margs\u001b[49m\u001b[43m,\u001b[49m\u001b[43m \u001b[49m\u001b[38;5;241;43m*\u001b[39;49m\u001b[38;5;241;43m*\u001b[39;49m\u001b[43mkwargs\u001b[49m\u001b[43m)\u001b[49m\n",
      "File \u001b[0;32m~/PyPetProjects/yandex_nlp/final_project_sprint_2/.venv/lib/python3.12/site-packages/torch/nn/modules/module.py:1762\u001b[0m, in \u001b[0;36mModule._call_impl\u001b[0;34m(self, *args, **kwargs)\u001b[0m\n\u001b[1;32m   1757\u001b[0m \u001b[38;5;66;03m# If we don't have any hooks, we want to skip the rest of the logic in\u001b[39;00m\n\u001b[1;32m   1758\u001b[0m \u001b[38;5;66;03m# this function, and just call forward.\u001b[39;00m\n\u001b[1;32m   1759\u001b[0m \u001b[38;5;28;01mif\u001b[39;00m \u001b[38;5;129;01mnot\u001b[39;00m (\u001b[38;5;28mself\u001b[39m\u001b[38;5;241m.\u001b[39m_backward_hooks \u001b[38;5;129;01mor\u001b[39;00m \u001b[38;5;28mself\u001b[39m\u001b[38;5;241m.\u001b[39m_backward_pre_hooks \u001b[38;5;129;01mor\u001b[39;00m \u001b[38;5;28mself\u001b[39m\u001b[38;5;241m.\u001b[39m_forward_hooks \u001b[38;5;129;01mor\u001b[39;00m \u001b[38;5;28mself\u001b[39m\u001b[38;5;241m.\u001b[39m_forward_pre_hooks\n\u001b[1;32m   1760\u001b[0m         \u001b[38;5;129;01mor\u001b[39;00m _global_backward_pre_hooks \u001b[38;5;129;01mor\u001b[39;00m _global_backward_hooks\n\u001b[1;32m   1761\u001b[0m         \u001b[38;5;129;01mor\u001b[39;00m _global_forward_hooks \u001b[38;5;129;01mor\u001b[39;00m _global_forward_pre_hooks):\n\u001b[0;32m-> 1762\u001b[0m     \u001b[38;5;28;01mreturn\u001b[39;00m \u001b[43mforward_call\u001b[49m\u001b[43m(\u001b[49m\u001b[38;5;241;43m*\u001b[39;49m\u001b[43margs\u001b[49m\u001b[43m,\u001b[49m\u001b[43m \u001b[49m\u001b[38;5;241;43m*\u001b[39;49m\u001b[38;5;241;43m*\u001b[39;49m\u001b[43mkwargs\u001b[49m\u001b[43m)\u001b[49m\n\u001b[1;32m   1764\u001b[0m result \u001b[38;5;241m=\u001b[39m \u001b[38;5;28;01mNone\u001b[39;00m\n\u001b[1;32m   1765\u001b[0m called_always_called_hooks \u001b[38;5;241m=\u001b[39m \u001b[38;5;28mset\u001b[39m()\n",
      "File \u001b[0;32m~/PyPetProjects/yandex_nlp/final_project_sprint_2/.venv/lib/python3.12/site-packages/torch/nn/modules/loss.py:1297\u001b[0m, in \u001b[0;36mCrossEntropyLoss.forward\u001b[0;34m(self, input, target)\u001b[0m\n\u001b[1;32m   1296\u001b[0m \u001b[38;5;28;01mdef\u001b[39;00m\u001b[38;5;250m \u001b[39m\u001b[38;5;21mforward\u001b[39m(\u001b[38;5;28mself\u001b[39m, \u001b[38;5;28minput\u001b[39m: Tensor, target: Tensor) \u001b[38;5;241m-\u001b[39m\u001b[38;5;241m>\u001b[39m Tensor:\n\u001b[0;32m-> 1297\u001b[0m     \u001b[38;5;28;01mreturn\u001b[39;00m \u001b[43mF\u001b[49m\u001b[38;5;241;43m.\u001b[39;49m\u001b[43mcross_entropy\u001b[49m\u001b[43m(\u001b[49m\n\u001b[1;32m   1298\u001b[0m \u001b[43m        \u001b[49m\u001b[38;5;28;43minput\u001b[39;49m\u001b[43m,\u001b[49m\n\u001b[1;32m   1299\u001b[0m \u001b[43m        \u001b[49m\u001b[43mtarget\u001b[49m\u001b[43m,\u001b[49m\n\u001b[1;32m   1300\u001b[0m \u001b[43m        \u001b[49m\u001b[43mweight\u001b[49m\u001b[38;5;241;43m=\u001b[39;49m\u001b[38;5;28;43mself\u001b[39;49m\u001b[38;5;241;43m.\u001b[39;49m\u001b[43mweight\u001b[49m\u001b[43m,\u001b[49m\n\u001b[1;32m   1301\u001b[0m \u001b[43m        \u001b[49m\u001b[43mignore_index\u001b[49m\u001b[38;5;241;43m=\u001b[39;49m\u001b[38;5;28;43mself\u001b[39;49m\u001b[38;5;241;43m.\u001b[39;49m\u001b[43mignore_index\u001b[49m\u001b[43m,\u001b[49m\n\u001b[1;32m   1302\u001b[0m \u001b[43m        \u001b[49m\u001b[43mreduction\u001b[49m\u001b[38;5;241;43m=\u001b[39;49m\u001b[38;5;28;43mself\u001b[39;49m\u001b[38;5;241;43m.\u001b[39;49m\u001b[43mreduction\u001b[49m\u001b[43m,\u001b[49m\n\u001b[1;32m   1303\u001b[0m \u001b[43m        \u001b[49m\u001b[43mlabel_smoothing\u001b[49m\u001b[38;5;241;43m=\u001b[39;49m\u001b[38;5;28;43mself\u001b[39;49m\u001b[38;5;241;43m.\u001b[39;49m\u001b[43mlabel_smoothing\u001b[49m\u001b[43m,\u001b[49m\n\u001b[1;32m   1304\u001b[0m \u001b[43m    \u001b[49m\u001b[43m)\u001b[49m\n",
      "File \u001b[0;32m~/PyPetProjects/yandex_nlp/final_project_sprint_2/.venv/lib/python3.12/site-packages/torch/nn/functional.py:3494\u001b[0m, in \u001b[0;36mcross_entropy\u001b[0;34m(input, target, weight, size_average, ignore_index, reduce, reduction, label_smoothing)\u001b[0m\n\u001b[1;32m   3492\u001b[0m \u001b[38;5;28;01mif\u001b[39;00m size_average \u001b[38;5;129;01mis\u001b[39;00m \u001b[38;5;129;01mnot\u001b[39;00m \u001b[38;5;28;01mNone\u001b[39;00m \u001b[38;5;129;01mor\u001b[39;00m reduce \u001b[38;5;129;01mis\u001b[39;00m \u001b[38;5;129;01mnot\u001b[39;00m \u001b[38;5;28;01mNone\u001b[39;00m:\n\u001b[1;32m   3493\u001b[0m     reduction \u001b[38;5;241m=\u001b[39m _Reduction\u001b[38;5;241m.\u001b[39mlegacy_get_string(size_average, reduce)\n\u001b[0;32m-> 3494\u001b[0m \u001b[38;5;28;01mreturn\u001b[39;00m \u001b[43mtorch\u001b[49m\u001b[38;5;241;43m.\u001b[39;49m\u001b[43m_C\u001b[49m\u001b[38;5;241;43m.\u001b[39;49m\u001b[43m_nn\u001b[49m\u001b[38;5;241;43m.\u001b[39;49m\u001b[43mcross_entropy_loss\u001b[49m\u001b[43m(\u001b[49m\n\u001b[1;32m   3495\u001b[0m \u001b[43m    \u001b[49m\u001b[38;5;28;43minput\u001b[39;49m\u001b[43m,\u001b[49m\n\u001b[1;32m   3496\u001b[0m \u001b[43m    \u001b[49m\u001b[43mtarget\u001b[49m\u001b[43m,\u001b[49m\n\u001b[1;32m   3497\u001b[0m \u001b[43m    \u001b[49m\u001b[43mweight\u001b[49m\u001b[43m,\u001b[49m\n\u001b[1;32m   3498\u001b[0m \u001b[43m    \u001b[49m\u001b[43m_Reduction\u001b[49m\u001b[38;5;241;43m.\u001b[39;49m\u001b[43mget_enum\u001b[49m\u001b[43m(\u001b[49m\u001b[43mreduction\u001b[49m\u001b[43m)\u001b[49m\u001b[43m,\u001b[49m\n\u001b[1;32m   3499\u001b[0m \u001b[43m    \u001b[49m\u001b[43mignore_index\u001b[49m\u001b[43m,\u001b[49m\n\u001b[1;32m   3500\u001b[0m \u001b[43m    \u001b[49m\u001b[43mlabel_smoothing\u001b[49m\u001b[43m,\u001b[49m\n\u001b[1;32m   3501\u001b[0m \u001b[43m\u001b[49m\u001b[43m)\u001b[49m\n",
      "\u001b[0;31mKeyboardInterrupt\u001b[0m: "
     ]
    }
   ],
   "source": [
    "\n",
    "# ==== Tiny training loop ====\n",
    "for epoch in range(5):\n",
    "    model.train()\n",
    "    total = 0.0\n",
    "    for batch in train_loader:\n",
    "        total += train_step(model, batch, optimizer)\n",
    "    print(f\"epoch {epoch} | train_loss {total/len(train_loader):.3f}\")\n"
   ]
  },
  {
   "cell_type": "code",
   "execution_count": null,
   "id": "ad44b94e",
   "metadata": {},
   "outputs": [],
   "source": [
    "\n",
    "# ==== Optional: quick generation sanity check ====\n",
    "# Build a prefix batch (right-padded with pad_id)\n",
    "prefix = [\"i wish\", \"good morning\"]\n",
    "enc = [tokenizer.encode(p, add_special_tokens=False) for p in prefix]\n",
    "enc = [torch.tensor(e, dtype=torch.long) for e in enc]\n",
    "prefix_batch = pad_sequence(enc, batch_first=True, padding_value=pad_id)\n",
    "\n",
    "with torch.no_grad():\n",
    "    out_ids = model.generate(prefix_batch, max_new_tokens=10, eos_id=eos_id)\n",
    "decoded = [tokenizer.decode(row.tolist(), skip_special_tokens=True) for row in out_ids]\n",
    "print(decoded)"
   ]
  },
  {
   "cell_type": "code",
   "execution_count": null,
   "id": "cbe16603",
   "metadata": {},
   "outputs": [],
   "source": []
  },
  {
   "cell_type": "code",
   "execution_count": 20,
   "id": "89a952fd",
   "metadata": {},
   "outputs": [],
   "source": [
    "\n",
    "# ---------- Training step ----------\n",
    "\n",
    "criterion = nn.CrossEntropyLoss(ignore_index=IGNORE_INDEX)  # padding & masked quarters ignored\n",
    "\n",
    "def train_step(model, batch, optimizer):\n",
    "    logits = model(batch[\"input_ids\"], batch[\"lengths\"])      # B×L×V\n",
    "    B, L, V = logits.shape\n",
    "    loss = criterion(logits.view(B*L, V), batch[\"labels\"].view(B*L))\n",
    "    optimizer.zero_grad()\n",
    "    loss.backward()\n",
    "    optimizer.step()\n",
    "    return loss.item()"
   ]
  }
 ],
 "metadata": {
  "kernelspec": {
   "display_name": ".venv",
   "language": "python",
   "name": "python3"
  },
  "language_info": {
   "codemirror_mode": {
    "name": "ipython",
    "version": 3
   },
   "file_extension": ".py",
   "mimetype": "text/x-python",
   "name": "python",
   "nbconvert_exporter": "python",
   "pygments_lexer": "ipython3",
   "version": "3.10.12"
  }
 },
 "nbformat": 4,
 "nbformat_minor": 5
}
